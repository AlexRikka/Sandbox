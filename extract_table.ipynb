{
 "cells": [
  {
   "cell_type": "code",
   "execution_count": 32,
   "metadata": {
    "ExecuteTime": {
     "end_time": "2022-07-31T14:11:36.137439Z",
     "start_time": "2022-07-31T14:11:30.955816Z"
    }
   },
   "outputs": [
    {
     "name": "stdout",
     "output_type": "stream",
     "text": [
      "Collecting PyMuPDF\n",
      "  Downloading PyMuPDF-1.20.1-cp38-cp38-win_amd64.whl (6.6 MB)\n",
      "     ---------------------------------------- 6.6/6.6 MB 4.8 MB/s eta 0:00:00\n",
      "Installing collected packages: PyMuPDF\n",
      "Successfully installed PyMuPDF-1.20.1\n"
     ]
    },
    {
     "name": "stderr",
     "output_type": "stream",
     "text": [
      "WARNING: There was an error checking the latest version of pip.\n"
     ]
    }
   ],
   "source": [
    "!pip install PyMuPDF"
   ]
  },
  {
   "cell_type": "code",
   "execution_count": 1,
   "metadata": {
    "ExecuteTime": {
     "end_time": "2022-08-04T16:36:08.096833Z",
     "start_time": "2022-08-04T16:35:53.449755Z"
    }
   },
   "outputs": [],
   "source": [
    "import camelot\n",
    "import matplotlib.pyplot as plt\n",
    "import sys, fitz"
   ]
  },
  {
   "cell_type": "code",
   "execution_count": 98,
   "metadata": {
    "ExecuteTime": {
     "end_time": "2022-08-04T18:05:23.562141Z",
     "start_time": "2022-08-04T18:05:23.553143Z"
    }
   },
   "outputs": [],
   "source": [
    "#file =  r'D:\\НИР Бакалавра\\Documents\\Отчет 8 семестр\\Отзыв_НИР_бакалавра_2021_6409_Богданова.pdf' #'TableExample.pdf'\n",
    "file = 'Перечень тем ВКР год бакалавриат. Тема работы на русском языке.pdf'"
   ]
  },
  {
   "cell_type": "code",
   "execution_count": 99,
   "metadata": {
    "ExecuteTime": {
     "end_time": "2022-08-04T18:05:23.967675Z",
     "start_time": "2022-08-04T18:05:23.959659Z"
    }
   },
   "outputs": [],
   "source": [
    "# doc = fitz.open(file)  # open document\n",
    "# page = doc.load_page(0)\n",
    "# pix = page.get_pixmap() # render page to an image\n",
    "# pix.save(\"page1.png\")  # store image as a PNG\n",
    "# # for page in doc:  # iterate through the pages\n",
    "# #     pix = page.get_pixmap()  # render page to an image\n",
    "# #     pix.save(\"page-%i.png\" % page.number)  # store image as a PNG"
   ]
  },
  {
   "cell_type": "code",
   "execution_count": 100,
   "metadata": {
    "ExecuteTime": {
     "end_time": "2022-08-04T18:05:24.631067Z",
     "start_time": "2022-08-04T18:05:24.554074Z"
    }
   },
   "outputs": [],
   "source": [
    "doc = fitz.open(file)  # open document\n",
    "page = doc.load_page(0)\n",
    "pix = page.get_pixmap()  # render page to an image\n",
    "pix.save('output.png')"
   ]
  },
  {
   "cell_type": "code",
   "execution_count": 105,
   "metadata": {
    "ExecuteTime": {
     "end_time": "2022-08-04T18:05:55.100199Z",
     "start_time": "2022-08-04T18:05:54.713187Z"
    },
    "scrolled": true
   },
   "outputs": [],
   "source": [
    "# USE this to not install gohstscript\n",
    "class ConversionBackend(object):\n",
    "    def convert(self, pdf_path, png_path):\n",
    "        # read pdf page from pdf_path\n",
    "        # convert pdf page to image\n",
    "        # write image to png_path\n",
    "        doc = fitz.open(pdf_path)  # open document\n",
    "        page = doc.load_page(0)\n",
    "        pix = page.get_pixmap()  # render page to an image\n",
    "        pix.save(png_path)\n",
    "\n",
    "\n",
    "tables = camelot.read_pdf(file, \n",
    "                          backend=ConversionBackend(), \n",
    "                          strip_text='\\n', \n",
    "                          line_scale=40, \n",
    "                          flag_size=True, )\n",
    "                          #copy_text=['h', 'v'],)  # shift_text=[''])"
   ]
  },
  {
   "cell_type": "code",
   "execution_count": 106,
   "metadata": {
    "ExecuteTime": {
     "end_time": "2022-08-04T18:05:55.131029Z",
     "start_time": "2022-08-04T18:05:55.108037Z"
    }
   },
   "outputs": [
    {
     "data": {
      "text/html": [
       "<div>\n",
       "<style scoped>\n",
       "    .dataframe tbody tr th:only-of-type {\n",
       "        vertical-align: middle;\n",
       "    }\n",
       "\n",
       "    .dataframe tbody tr th {\n",
       "        vertical-align: top;\n",
       "    }\n",
       "\n",
       "    .dataframe thead th {\n",
       "        text-align: right;\n",
       "    }\n",
       "</style>\n",
       "<table border=\"1\" class=\"dataframe\">\n",
       "  <thead>\n",
       "    <tr style=\"text-align: right;\">\n",
       "      <th></th>\n",
       "      <th>0</th>\n",
       "      <th>1</th>\n",
       "      <th>2</th>\n",
       "      <th>3</th>\n",
       "    </tr>\n",
       "  </thead>\n",
       "  <tbody>\n",
       "    <tr>\n",
       "      <th>0</th>\n",
       "      <td>№ п/п</td>\n",
       "      <td>Руководитель работы</td>\n",
       "      <td>Тема работы на русском языке</td>\n",
       "      <td>Тема работы на английском языке</td>\n",
       "    </tr>\n",
       "    <tr>\n",
       "      <th>1</th>\n",
       "      <td>1</td>\n",
       "      <td>Бабкина Т.С.</td>\n",
       "      <td>Проектирование и реализация алгоритма формальн...</td>\n",
       "      <td>Design and Implementation of Formal Inference ...</td>\n",
       "    </tr>\n",
       "    <tr>\n",
       "      <th>2</th>\n",
       "      <td>2</td>\n",
       "      <td>Бычков И.С.</td>\n",
       "      <td>\"Гиперэвристический алгоритм для построения оп...</td>\n",
       "      <td>Hyper-Heuristic Algorithm for Train Timetablin...</td>\n",
       "    </tr>\n",
       "    <tr>\n",
       "      <th>3</th>\n",
       "      <td>3</td>\n",
       "      <td>Гречихин И.С.</td>\n",
       "      <td>Обучение сверточных сетей с зашумленными метками</td>\n",
       "      <td>Training Convolutional Networks with Noisy Labels</td>\n",
       "    </tr>\n",
       "    <tr>\n",
       "      <th>4</th>\n",
       "      <td>4</td>\n",
       "      <td>Грибанов Д.В.</td>\n",
       "      <td>Двумерная задача квазивыпуклой целочисленной м...</td>\n",
       "      <td>Two-dimensional Problem of Quasi-Convex Intege...</td>\n",
       "    </tr>\n",
       "    <tr>\n",
       "      <th>5</th>\n",
       "      <td>5</td>\n",
       "      <td>Дурандин О.В.</td>\n",
       "      <td>Сравнение процедур выбора одной из многих гипотез</td>\n",
       "      <td>Comparison of the Procedures of Selecting one ...</td>\n",
       "    </tr>\n",
       "    <tr>\n",
       "      <th>6</th>\n",
       "      <td>6</td>\n",
       "      <td>Дурандин О.В.</td>\n",
       "      <td>Учет синтаксиса в глубоком обучении при решени...</td>\n",
       "      <td>The Use of Syntax in Deep Learning Sentiment A...</td>\n",
       "    </tr>\n",
       "    <tr>\n",
       "      <th>7</th>\n",
       "      <td>7</td>\n",
       "      <td>Золотых Н.Ю.</td>\n",
       "      <td>Визуализация журнала выполнения программы с ис...</td>\n",
       "      <td>Visualization of the Program Execution Log Usi...</td>\n",
       "    </tr>\n",
       "  </tbody>\n",
       "</table>\n",
       "</div>"
      ],
      "text/plain": [
       "       0                    1  \\\n",
       "0  № п/п  Руководитель работы   \n",
       "1      1         Бабкина Т.С.   \n",
       "2      2          Бычков И.С.   \n",
       "3      3        Гречихин И.С.   \n",
       "4      4        Грибанов Д.В.   \n",
       "5      5        Дурандин О.В.   \n",
       "6      6        Дурандин О.В.   \n",
       "7      7         Золотых Н.Ю.   \n",
       "\n",
       "                                                   2  \\\n",
       "0                       Тема работы на русском языке   \n",
       "1  Проектирование и реализация алгоритма формальн...   \n",
       "2  \"Гиперэвристический алгоритм для построения оп...   \n",
       "3   Обучение сверточных сетей с зашумленными метками   \n",
       "4  Двумерная задача квазивыпуклой целочисленной м...   \n",
       "5  Сравнение процедур выбора одной из многих гипотез   \n",
       "6  Учет синтаксиса в глубоком обучении при решени...   \n",
       "7  Визуализация журнала выполнения программы с ис...   \n",
       "\n",
       "                                                   3  \n",
       "0                    Тема работы на английском языке  \n",
       "1  Design and Implementation of Formal Inference ...  \n",
       "2  Hyper-Heuristic Algorithm for Train Timetablin...  \n",
       "3  Training Convolutional Networks with Noisy Labels  \n",
       "4  Two-dimensional Problem of Quasi-Convex Intege...  \n",
       "5  Comparison of the Procedures of Selecting one ...  \n",
       "6  The Use of Syntax in Deep Learning Sentiment A...  \n",
       "7  Visualization of the Program Execution Log Usi...  "
      ]
     },
     "execution_count": 106,
     "metadata": {},
     "output_type": "execute_result"
    }
   ],
   "source": [
    "tables[0].df"
   ]
  },
  {
   "cell_type": "code",
   "execution_count": 30,
   "metadata": {
    "ExecuteTime": {
     "end_time": "2022-08-04T16:55:24.214157Z",
     "start_time": "2022-08-04T16:55:24.203161Z"
    }
   },
   "outputs": [
    {
     "data": {
      "text/plain": [
       "<Table shape=(16, 17)>"
      ]
     },
     "execution_count": 30,
     "metadata": {},
     "output_type": "execute_result"
    }
   ],
   "source": [
    "tables[0]"
   ]
  },
  {
   "cell_type": "code",
   "execution_count": 59,
   "metadata": {
    "ExecuteTime": {
     "end_time": "2022-08-04T17:13:14.758889Z",
     "start_time": "2022-08-04T17:13:14.750893Z"
    }
   },
   "outputs": [
    {
     "data": {
      "text/plain": [
       "''"
      ]
     },
     "execution_count": 59,
     "metadata": {},
     "output_type": "execute_result"
    }
   ],
   "source": [
    "tables[0].df.iloc[1][9]"
   ]
  },
  {
   "cell_type": "code",
   "execution_count": 61,
   "metadata": {
    "ExecuteTime": {
     "end_time": "2022-08-04T17:13:25.281308Z",
     "start_time": "2022-08-04T17:13:25.271302Z"
    }
   },
   "outputs": [
    {
     "name": "stdout",
     "output_type": "stream",
     "text": [
      "RangeIndex(start=0, stop=17, step=1)\n",
      "0\n",
      "1\n",
      "2\n",
      "3\n",
      "4\n",
      "5\n",
      "6\n",
      "7\n",
      "8\n",
      "9\n",
      "10\n",
      "11\n",
      "12\n",
      "13\n",
      "14\n",
      "15\n",
      "16\n"
     ]
    }
   ],
   "source": [
    "tables[0].df.iloc[4] #row\n",
    "print(tables[0].df.iloc[4].keys())\n",
    "for i in tables[0].df.iloc[4].keys():\n",
    "    print(i)"
   ]
  },
  {
   "cell_type": "code",
   "execution_count": 47,
   "metadata": {
    "ExecuteTime": {
     "end_time": "2022-08-04T17:11:10.375805Z",
     "start_time": "2022-08-04T17:11:10.367847Z"
    }
   },
   "outputs": [],
   "source": [
    "import pandas as pd"
   ]
  },
  {
   "cell_type": "code",
   "execution_count": 62,
   "metadata": {
    "ExecuteTime": {
     "end_time": "2022-08-04T17:13:35.998440Z",
     "start_time": "2022-08-04T17:13:35.982816Z"
    }
   },
   "outputs": [],
   "source": [
    "students = [('Ankit', 22, 'A'),\n",
    "           ('Swapnil', 22, 'B'),\n",
    "           ('Priya', 22, 'B'),\n",
    "           ('Shivangi', 22, 'B'),\n",
    "            ]\n",
    " \n",
    "# Create a DataFrame object\n",
    "stu_df = pd.DataFrame(students, columns =['Name', 'Age', 'Section'],\n",
    "                      index =['1', '2', '3', '4'])"
   ]
  },
  {
   "cell_type": "code",
   "execution_count": 63,
   "metadata": {
    "ExecuteTime": {
     "end_time": "2022-08-04T17:13:36.283709Z",
     "start_time": "2022-08-04T17:13:36.259708Z"
    }
   },
   "outputs": [
    {
     "data": {
      "text/html": [
       "<div>\n",
       "<style scoped>\n",
       "    .dataframe tbody tr th:only-of-type {\n",
       "        vertical-align: middle;\n",
       "    }\n",
       "\n",
       "    .dataframe tbody tr th {\n",
       "        vertical-align: top;\n",
       "    }\n",
       "\n",
       "    .dataframe thead th {\n",
       "        text-align: right;\n",
       "    }\n",
       "</style>\n",
       "<table border=\"1\" class=\"dataframe\">\n",
       "  <thead>\n",
       "    <tr style=\"text-align: right;\">\n",
       "      <th></th>\n",
       "      <th>Name</th>\n",
       "      <th>Age</th>\n",
       "      <th>Section</th>\n",
       "    </tr>\n",
       "  </thead>\n",
       "  <tbody>\n",
       "    <tr>\n",
       "      <th>1</th>\n",
       "      <td>Ankit</td>\n",
       "      <td>22</td>\n",
       "      <td>A</td>\n",
       "    </tr>\n",
       "    <tr>\n",
       "      <th>2</th>\n",
       "      <td>Swapnil</td>\n",
       "      <td>22</td>\n",
       "      <td>B</td>\n",
       "    </tr>\n",
       "    <tr>\n",
       "      <th>3</th>\n",
       "      <td>Priya</td>\n",
       "      <td>22</td>\n",
       "      <td>B</td>\n",
       "    </tr>\n",
       "    <tr>\n",
       "      <th>4</th>\n",
       "      <td>Shivangi</td>\n",
       "      <td>22</td>\n",
       "      <td>B</td>\n",
       "    </tr>\n",
       "  </tbody>\n",
       "</table>\n",
       "</div>"
      ],
      "text/plain": [
       "       Name  Age Section\n",
       "1     Ankit   22       A\n",
       "2   Swapnil   22       B\n",
       "3     Priya   22       B\n",
       "4  Shivangi   22       B"
      ]
     },
     "execution_count": 63,
     "metadata": {},
     "output_type": "execute_result"
    }
   ],
   "source": [
    "stu_df"
   ]
  },
  {
   "cell_type": "code",
   "execution_count": 64,
   "metadata": {
    "ExecuteTime": {
     "end_time": "2022-08-04T17:13:37.649266Z",
     "start_time": "2022-08-04T17:13:37.633599Z"
    }
   },
   "outputs": [
    {
     "data": {
      "text/plain": [
       "Name       Swapnil\n",
       "Age             22\n",
       "Section          B\n",
       "Name: 2, dtype: object"
      ]
     },
     "execution_count": 64,
     "metadata": {},
     "output_type": "execute_result"
    }
   ],
   "source": [
    "stu_df.iloc[1]"
   ]
  },
  {
   "cell_type": "code",
   "execution_count": 66,
   "metadata": {
    "ExecuteTime": {
     "end_time": "2022-08-04T17:13:47.870638Z",
     "start_time": "2022-08-04T17:13:47.857634Z"
    },
    "scrolled": true
   },
   "outputs": [
    {
     "name": "stdout",
     "output_type": "stream",
     "text": [
      "Name\n",
      "Age\n",
      "Section\n"
     ]
    }
   ],
   "source": [
    "for i in stu_df.iloc[1].keys():\n",
    "    print(i)"
   ]
  },
  {
   "cell_type": "code",
   "execution_count": 70,
   "metadata": {
    "ExecuteTime": {
     "end_time": "2022-08-04T17:20:42.367995Z",
     "start_time": "2022-08-04T17:20:42.360029Z"
    }
   },
   "outputs": [
    {
     "name": "stdout",
     "output_type": "stream",
     "text": [
      "Swapnil\n",
      "22\n",
      "B\n"
     ]
    }
   ],
   "source": [
    "row2 = stu_df.iloc[1]\n",
    "for i in range(len(row2)):\n",
    "    print(row2[i])"
   ]
  },
  {
   "cell_type": "code",
   "execution_count": 68,
   "metadata": {
    "ExecuteTime": {
     "end_time": "2022-08-04T17:17:34.960282Z",
     "start_time": "2022-08-04T17:17:34.934281Z"
    }
   },
   "outputs": [
    {
     "name": "stdout",
     "output_type": "stream",
     "text": [
      "Name\n"
     ]
    },
    {
     "ename": "TypeError",
     "evalue": "unsupported operand type(s) for -: 'str' and 'int'",
     "output_type": "error",
     "traceback": [
      "\u001b[1;31m---------------------------------------------------------------------------\u001b[0m",
      "\u001b[1;31mTypeError\u001b[0m                                 Traceback (most recent call last)",
      "Input \u001b[1;32mIn [68]\u001b[0m, in \u001b[0;36m<cell line: 1>\u001b[1;34m()\u001b[0m\n\u001b[0;32m      1\u001b[0m \u001b[38;5;28;01mfor\u001b[39;00m i \u001b[38;5;129;01min\u001b[39;00m stu_df\u001b[38;5;241m.\u001b[39miloc[\u001b[38;5;241m1\u001b[39m]\u001b[38;5;241m.\u001b[39mkeys():\n\u001b[0;32m      2\u001b[0m     \u001b[38;5;28mprint\u001b[39m(i)\n\u001b[1;32m----> 3\u001b[0m     \u001b[38;5;28mprint\u001b[39m(\u001b[43mi\u001b[49m\u001b[38;5;241;43m-\u001b[39;49m\u001b[38;5;241;43m1\u001b[39;49m)\n",
      "\u001b[1;31mTypeError\u001b[0m: unsupported operand type(s) for -: 'str' and 'int'"
     ]
    }
   ],
   "source": [
    "for i in stu_df.iloc[1].keys():\n",
    "    print(i)\n",
    "    #print(stu_df.iloc[1][i])\n",
    "for i in stu_df.shape[1]:\n",
    "    print(i)"
   ]
  },
  {
   "cell_type": "code",
   "execution_count": 75,
   "metadata": {
    "ExecuteTime": {
     "end_time": "2022-08-04T17:23:44.724643Z",
     "start_time": "2022-08-04T17:23:44.710599Z"
    }
   },
   "outputs": [
    {
     "data": {
      "text/plain": [
       "0     None\n",
       "1     None\n",
       "2     None\n",
       "3     None\n",
       "4     None\n",
       "5     None\n",
       "6     None\n",
       "7     None\n",
       "8     None\n",
       "9     None\n",
       "10    None\n",
       "11    None\n",
       "12    None\n",
       "13    None\n",
       "14    None\n",
       "15    None\n",
       "dtype: object"
      ]
     },
     "execution_count": 75,
     "metadata": {},
     "output_type": "execute_result"
    }
   ],
   "source": [
    "# Fill in empty cells exept header\n",
    "# Fill horizontally\n",
    "# Для каждой колонки: Берем колонку, для каждой строки если она пустая ищем не пустую по колонкам\n",
    "def fill_horizontal(row):\n",
    "    for i in range(len(row)):\n",
    "        if row[i] =='':\n",
    "            row[i] = row[i-1]\n",
    "            \n",
    "tables[0].df.apply(fill_horizontal, axis=1)\n",
    "\n",
    "# Fill vertically"
   ]
  },
  {
   "cell_type": "code",
   "execution_count": 76,
   "metadata": {
    "ExecuteTime": {
     "end_time": "2022-08-04T17:23:49.303717Z",
     "start_time": "2022-08-04T17:23:49.261180Z"
    }
   },
   "outputs": [
    {
     "data": {
      "text/html": [
       "<div>\n",
       "<style scoped>\n",
       "    .dataframe tbody tr th:only-of-type {\n",
       "        vertical-align: middle;\n",
       "    }\n",
       "\n",
       "    .dataframe tbody tr th {\n",
       "        vertical-align: top;\n",
       "    }\n",
       "\n",
       "    .dataframe thead th {\n",
       "        text-align: right;\n",
       "    }\n",
       "</style>\n",
       "<table border=\"1\" class=\"dataframe\">\n",
       "  <thead>\n",
       "    <tr style=\"text-align: right;\">\n",
       "      <th></th>\n",
       "      <th>0</th>\n",
       "      <th>1</th>\n",
       "      <th>2</th>\n",
       "      <th>3</th>\n",
       "      <th>4</th>\n",
       "      <th>5</th>\n",
       "      <th>6</th>\n",
       "      <th>7</th>\n",
       "      <th>8</th>\n",
       "      <th>9</th>\n",
       "      <th>10</th>\n",
       "      <th>11</th>\n",
       "      <th>12</th>\n",
       "      <th>13</th>\n",
       "      <th>14</th>\n",
       "      <th>15</th>\n",
       "      <th>16</th>\n",
       "    </tr>\n",
       "  </thead>\n",
       "  <tbody>\n",
       "    <tr>\n",
       "      <th>0</th>\n",
       "      <td>N</td>\n",
       "      <td>EmployeeID</td>\n",
       "      <td>Recorddatekey</td>\n",
       "      <td>Birthdatekey</td>\n",
       "      <td>Orighiredatekey</td>\n",
       "      <td>Terminationdatekey</td>\n",
       "      <td>age</td>\n",
       "      <td>Lengthofservice17</td>\n",
       "      <td>Cityname</td>\n",
       "      <td>Departmentname</td>\n",
       "      <td>JobtitleCEO</td>\n",
       "      <td>STATUS</td>\n",
       "      <td>BUSINESSUNIT</td>\n",
       "      <td>Personalinformation</td>\n",
       "      <td>Personalinformation</td>\n",
       "      <td>Personalinformation</td>\n",
       "      <td>STATUSYEAR</td>\n",
       "    </tr>\n",
       "    <tr>\n",
       "      <th>1</th>\n",
       "      <td>N</td>\n",
       "      <td>EmployeeID</td>\n",
       "      <td>Recorddatekey</td>\n",
       "      <td>Birthdatekey</td>\n",
       "      <td>Orighiredatekey</td>\n",
       "      <td>Terminationdatekey</td>\n",
       "      <td>age</td>\n",
       "      <td>Lengthofservice17</td>\n",
       "      <td>Cityname</td>\n",
       "      <td>Departmentname</td>\n",
       "      <td>JobtitleCEO</td>\n",
       "      <td>STATUS</td>\n",
       "      <td>BUSINESSUNIT</td>\n",
       "      <td>Gendershort:1.M2.F</td>\n",
       "      <td>Genderfull</td>\n",
       "      <td>Termreasondesc</td>\n",
       "      <td>STATUSYEAR</td>\n",
       "    </tr>\n",
       "    <tr>\n",
       "      <th>2</th>\n",
       "      <td>1</td>\n",
       "      <td>1318</td>\n",
       "      <td>12/31/20070:00</td>\n",
       "      <td>1/3/1954</td>\n",
       "      <td>8/28/1989</td>\n",
       "      <td>1/1/1900</td>\n",
       "      <td>53</td>\n",
       "      <td>18</td>\n",
       "      <td>Vancouver</td>\n",
       "      <td>Executive</td>\n",
       "      <td>CEO</td>\n",
       "      <td>ACTIVE</td>\n",
       "      <td>HEADOFFICE</td>\n",
       "      <td>1.M</td>\n",
       "      <td>Male</td>\n",
       "      <td>NotApplicable</td>\n",
       "      <td>2006</td>\n",
       "    </tr>\n",
       "    <tr>\n",
       "      <th>3</th>\n",
       "      <td>2</td>\n",
       "      <td>1318</td>\n",
       "      <td>12/31/20080:00</td>\n",
       "      <td>1/3/1954</td>\n",
       "      <td>8/28/1989</td>\n",
       "      <td>1/1/1900</td>\n",
       "      <td>54</td>\n",
       "      <td>19</td>\n",
       "      <td>Vancouver</td>\n",
       "      <td>Executive</td>\n",
       "      <td>CEO</td>\n",
       "      <td>ACTIVE</td>\n",
       "      <td>HEADOFFICE</td>\n",
       "      <td>1.M</td>\n",
       "      <td>Male</td>\n",
       "      <td>NotApplicable</td>\n",
       "      <td>2007</td>\n",
       "    </tr>\n",
       "    <tr>\n",
       "      <th>4</th>\n",
       "      <td>3</td>\n",
       "      <td>1318</td>\n",
       "      <td>12/31/20090:00</td>\n",
       "      <td>1/3/1954</td>\n",
       "      <td>8/28/1989</td>\n",
       "      <td>1/1/1900</td>\n",
       "      <td>55</td>\n",
       "      <td>20</td>\n",
       "      <td>Vancouver</td>\n",
       "      <td>Executive</td>\n",
       "      <td>CEO</td>\n",
       "      <td>ACTIVE</td>\n",
       "      <td>HEADOFFICE</td>\n",
       "      <td>1.M</td>\n",
       "      <td>Male</td>\n",
       "      <td>NotApplicable</td>\n",
       "      <td>2008</td>\n",
       "    </tr>\n",
       "    <tr>\n",
       "      <th>5</th>\n",
       "      <td>4</td>\n",
       "      <td>1318</td>\n",
       "      <td>12/31/20100:00</td>\n",
       "      <td>1/3/1954</td>\n",
       "      <td>8/28/1989</td>\n",
       "      <td>1/1/1900</td>\n",
       "      <td>56</td>\n",
       "      <td>21</td>\n",
       "      <td>Vancouver</td>\n",
       "      <td>Executive</td>\n",
       "      <td>CEO</td>\n",
       "      <td>ACTIVE</td>\n",
       "      <td>HEADOFFICE</td>\n",
       "      <td>1.M</td>\n",
       "      <td>Male</td>\n",
       "      <td>NotApplicable</td>\n",
       "      <td>2009</td>\n",
       "    </tr>\n",
       "    <tr>\n",
       "      <th>6</th>\n",
       "      <td>5</td>\n",
       "      <td>1318</td>\n",
       "      <td>12/31/20110:00</td>\n",
       "      <td>1/1/1900</td>\n",
       "      <td>8/28/1989</td>\n",
       "      <td>1/1/1900</td>\n",
       "      <td>57</td>\n",
       "      <td>22</td>\n",
       "      <td>Vancouver</td>\n",
       "      <td>Executive</td>\n",
       "      <td>CEO</td>\n",
       "      <td>ACTIVE</td>\n",
       "      <td>HEADOFFICE</td>\n",
       "      <td>1.M</td>\n",
       "      <td>Male</td>\n",
       "      <td>NotApplicable</td>\n",
       "      <td>2010</td>\n",
       "    </tr>\n",
       "    <tr>\n",
       "      <th>7</th>\n",
       "      <td>6</td>\n",
       "      <td>1318</td>\n",
       "      <td>12/31/20120:00</td>\n",
       "      <td>1/1/1900</td>\n",
       "      <td>8/28/1989</td>\n",
       "      <td>1/1/1900</td>\n",
       "      <td>58</td>\n",
       "      <td>23</td>\n",
       "      <td>Vancouver</td>\n",
       "      <td>Executive</td>\n",
       "      <td>CEO</td>\n",
       "      <td>ACTIVE</td>\n",
       "      <td>HEADOFFICE</td>\n",
       "      <td>1.M</td>\n",
       "      <td>Male</td>\n",
       "      <td>NotApplicable</td>\n",
       "      <td>2011</td>\n",
       "    </tr>\n",
       "    <tr>\n",
       "      <th>8</th>\n",
       "      <td>7</td>\n",
       "      <td>1318</td>\n",
       "      <td>12/31/20130:00</td>\n",
       "      <td>1/1/1900</td>\n",
       "      <td>8/28/1989</td>\n",
       "      <td>1/1/1900</td>\n",
       "      <td>59</td>\n",
       "      <td>24</td>\n",
       "      <td>Vancouver</td>\n",
       "      <td>Executive</td>\n",
       "      <td>CEO</td>\n",
       "      <td>ACTIVE</td>\n",
       "      <td>HEADOFFICE</td>\n",
       "      <td>1.M</td>\n",
       "      <td>Male</td>\n",
       "      <td>NotApplicable</td>\n",
       "      <td>2012</td>\n",
       "    </tr>\n",
       "    <tr>\n",
       "      <th>9</th>\n",
       "      <td>8</td>\n",
       "      <td>1318</td>\n",
       "      <td>12/31/20130:00</td>\n",
       "      <td>1/1/1900</td>\n",
       "      <td>8/28/1989</td>\n",
       "      <td>1/1/1900</td>\n",
       "      <td>60</td>\n",
       "      <td>25</td>\n",
       "      <td>Vancouver</td>\n",
       "      <td>Executive</td>\n",
       "      <td>CEO</td>\n",
       "      <td>ACTIVE</td>\n",
       "      <td>HEADOFFICE</td>\n",
       "      <td>1.M</td>\n",
       "      <td>Male</td>\n",
       "      <td>NotApplicable</td>\n",
       "      <td>2013</td>\n",
       "    </tr>\n",
       "    <tr>\n",
       "      <th>10</th>\n",
       "      <td>9</td>\n",
       "      <td>1318</td>\n",
       "      <td>12/31/20130:00</td>\n",
       "      <td>1/1/1900</td>\n",
       "      <td>8/28/1989</td>\n",
       "      <td>1/1/1900</td>\n",
       "      <td>61</td>\n",
       "      <td>26</td>\n",
       "      <td>Vancouver</td>\n",
       "      <td>Executive</td>\n",
       "      <td>CEO</td>\n",
       "      <td>ACTIVE</td>\n",
       "      <td>HEADOFFICE</td>\n",
       "      <td>1.M</td>\n",
       "      <td>Male</td>\n",
       "      <td>NotApplicable</td>\n",
       "      <td>2014</td>\n",
       "    </tr>\n",
       "    <tr>\n",
       "      <th>11</th>\n",
       "      <td>10</td>\n",
       "      <td>1319</td>\n",
       "      <td>12/31/20130:00</td>\n",
       "      <td>1/1/1900</td>\n",
       "      <td>8/28/1989</td>\n",
       "      <td>1/1/1900</td>\n",
       "      <td>49</td>\n",
       "      <td>17</td>\n",
       "      <td>Vancouver</td>\n",
       "      <td>Executive</td>\n",
       "      <td>VPStores</td>\n",
       "      <td>ACTIVE</td>\n",
       "      <td>HEADOFFICE</td>\n",
       "      <td>1.M</td>\n",
       "      <td>Male</td>\n",
       "      <td>NotApplicable</td>\n",
       "      <td>2015</td>\n",
       "    </tr>\n",
       "    <tr>\n",
       "      <th>12</th>\n",
       "      <td>11</td>\n",
       "      <td>1319</td>\n",
       "      <td>12/31/20070:00</td>\n",
       "      <td>1/3/1957</td>\n",
       "      <td>8/28/1989</td>\n",
       "      <td>1/1/1900</td>\n",
       "      <td>50</td>\n",
       "      <td>18</td>\n",
       "      <td>Vancouver</td>\n",
       "      <td>Executive</td>\n",
       "      <td>VPStores</td>\n",
       "      <td>ACTIVE</td>\n",
       "      <td>HEADOFFICE</td>\n",
       "      <td>2.F</td>\n",
       "      <td>Female</td>\n",
       "      <td>NotApplicable</td>\n",
       "      <td>2006</td>\n",
       "    </tr>\n",
       "    <tr>\n",
       "      <th>13</th>\n",
       "      <td>12</td>\n",
       "      <td>1319</td>\n",
       "      <td>12/31/20080:00</td>\n",
       "      <td>1/3/1957</td>\n",
       "      <td>8/28/1989</td>\n",
       "      <td>1/1/1900</td>\n",
       "      <td>51</td>\n",
       "      <td>19</td>\n",
       "      <td>Vancouver</td>\n",
       "      <td>Executive</td>\n",
       "      <td>VPStores</td>\n",
       "      <td>ACTIVE</td>\n",
       "      <td>HEADOFFICE</td>\n",
       "      <td>2.F</td>\n",
       "      <td>Female</td>\n",
       "      <td>NotApplicable</td>\n",
       "      <td>2007</td>\n",
       "    </tr>\n",
       "    <tr>\n",
       "      <th>14</th>\n",
       "      <td>13</td>\n",
       "      <td>1319</td>\n",
       "      <td>12/31/20090:00</td>\n",
       "      <td>1/3/1957</td>\n",
       "      <td>8/28/1989</td>\n",
       "      <td>1/1/1900</td>\n",
       "      <td>52</td>\n",
       "      <td>20</td>\n",
       "      <td>Vancouver</td>\n",
       "      <td>Executive</td>\n",
       "      <td>VPStores</td>\n",
       "      <td>ACTIVE</td>\n",
       "      <td>HEADOFFICE</td>\n",
       "      <td>2.F</td>\n",
       "      <td>Female</td>\n",
       "      <td>NotApplicable</td>\n",
       "      <td>2008</td>\n",
       "    </tr>\n",
       "    <tr>\n",
       "      <th>15</th>\n",
       "      <td>14</td>\n",
       "      <td>1319</td>\n",
       "      <td>12/31/20100:00</td>\n",
       "      <td>1/3/1957</td>\n",
       "      <td>8/28/1989</td>\n",
       "      <td>1/1/1900</td>\n",
       "      <td>53</td>\n",
       "      <td>21</td>\n",
       "      <td>Vancouver</td>\n",
       "      <td>Executive</td>\n",
       "      <td>VPStores</td>\n",
       "      <td>ACTIVE</td>\n",
       "      <td>HEADOFFICE</td>\n",
       "      <td>2.F</td>\n",
       "      <td>Female</td>\n",
       "      <td>NotApplicable</td>\n",
       "      <td>2009</td>\n",
       "    </tr>\n",
       "  </tbody>\n",
       "</table>\n",
       "</div>"
      ],
      "text/plain": [
       "    0           1               2             3                4   \\\n",
       "0    N  EmployeeID   Recorddatekey  Birthdatekey  Orighiredatekey   \n",
       "1    N  EmployeeID   Recorddatekey  Birthdatekey  Orighiredatekey   \n",
       "2    1        1318  12/31/20070:00      1/3/1954        8/28/1989   \n",
       "3    2        1318  12/31/20080:00      1/3/1954        8/28/1989   \n",
       "4    3        1318  12/31/20090:00      1/3/1954        8/28/1989   \n",
       "5    4        1318  12/31/20100:00      1/3/1954        8/28/1989   \n",
       "6    5        1318  12/31/20110:00      1/1/1900        8/28/1989   \n",
       "7    6        1318  12/31/20120:00      1/1/1900        8/28/1989   \n",
       "8    7        1318  12/31/20130:00      1/1/1900        8/28/1989   \n",
       "9    8        1318  12/31/20130:00      1/1/1900        8/28/1989   \n",
       "10   9        1318  12/31/20130:00      1/1/1900        8/28/1989   \n",
       "11  10        1319  12/31/20130:00      1/1/1900        8/28/1989   \n",
       "12  11        1319  12/31/20070:00      1/3/1957        8/28/1989   \n",
       "13  12        1319  12/31/20080:00      1/3/1957        8/28/1989   \n",
       "14  13        1319  12/31/20090:00      1/3/1957        8/28/1989   \n",
       "15  14        1319  12/31/20100:00      1/3/1957        8/28/1989   \n",
       "\n",
       "                    5    6                  7          8               9   \\\n",
       "0   Terminationdatekey  age  Lengthofservice17   Cityname  Departmentname   \n",
       "1   Terminationdatekey  age  Lengthofservice17   Cityname  Departmentname   \n",
       "2             1/1/1900   53                 18  Vancouver       Executive   \n",
       "3             1/1/1900   54                 19  Vancouver       Executive   \n",
       "4             1/1/1900   55                 20  Vancouver       Executive   \n",
       "5             1/1/1900   56                 21  Vancouver       Executive   \n",
       "6             1/1/1900   57                 22  Vancouver       Executive   \n",
       "7             1/1/1900   58                 23  Vancouver       Executive   \n",
       "8             1/1/1900   59                 24  Vancouver       Executive   \n",
       "9             1/1/1900   60                 25  Vancouver       Executive   \n",
       "10            1/1/1900   61                 26  Vancouver       Executive   \n",
       "11            1/1/1900   49                 17  Vancouver       Executive   \n",
       "12            1/1/1900   50                 18  Vancouver       Executive   \n",
       "13            1/1/1900   51                 19  Vancouver       Executive   \n",
       "14            1/1/1900   52                 20  Vancouver       Executive   \n",
       "15            1/1/1900   53                 21  Vancouver       Executive   \n",
       "\n",
       "             10      11            12                   13  \\\n",
       "0   JobtitleCEO  STATUS  BUSINESSUNIT  Personalinformation   \n",
       "1   JobtitleCEO  STATUS  BUSINESSUNIT   Gendershort:1.M2.F   \n",
       "2           CEO  ACTIVE    HEADOFFICE                  1.M   \n",
       "3           CEO  ACTIVE    HEADOFFICE                  1.M   \n",
       "4           CEO  ACTIVE    HEADOFFICE                  1.M   \n",
       "5           CEO  ACTIVE    HEADOFFICE                  1.M   \n",
       "6           CEO  ACTIVE    HEADOFFICE                  1.M   \n",
       "7           CEO  ACTIVE    HEADOFFICE                  1.M   \n",
       "8           CEO  ACTIVE    HEADOFFICE                  1.M   \n",
       "9           CEO  ACTIVE    HEADOFFICE                  1.M   \n",
       "10          CEO  ACTIVE    HEADOFFICE                  1.M   \n",
       "11     VPStores  ACTIVE    HEADOFFICE                  1.M   \n",
       "12     VPStores  ACTIVE    HEADOFFICE                  2.F   \n",
       "13     VPStores  ACTIVE    HEADOFFICE                  2.F   \n",
       "14     VPStores  ACTIVE    HEADOFFICE                  2.F   \n",
       "15     VPStores  ACTIVE    HEADOFFICE                  2.F   \n",
       "\n",
       "                     14                   15          16  \n",
       "0   Personalinformation  Personalinformation  STATUSYEAR  \n",
       "1            Genderfull       Termreasondesc  STATUSYEAR  \n",
       "2                  Male        NotApplicable        2006  \n",
       "3                  Male        NotApplicable        2007  \n",
       "4                  Male        NotApplicable        2008  \n",
       "5                  Male        NotApplicable        2009  \n",
       "6                  Male        NotApplicable        2010  \n",
       "7                  Male        NotApplicable        2011  \n",
       "8                  Male        NotApplicable        2012  \n",
       "9                  Male        NotApplicable        2013  \n",
       "10                 Male        NotApplicable        2014  \n",
       "11                 Male        NotApplicable        2015  \n",
       "12               Female        NotApplicable        2006  \n",
       "13               Female        NotApplicable        2007  \n",
       "14               Female        NotApplicable        2008  \n",
       "15               Female        NotApplicable        2009  "
      ]
     },
     "execution_count": 76,
     "metadata": {},
     "output_type": "execute_result"
    }
   ],
   "source": [
    "tables[0].df"
   ]
  },
  {
   "cell_type": "code",
   "execution_count": 8,
   "metadata": {
    "ExecuteTime": {
     "end_time": "2022-07-31T16:20:56.627214Z",
     "start_time": "2022-07-31T16:20:56.229243Z"
    }
   },
   "outputs": [],
   "source": [
    "tables[0].to_excel(\"table_result4.xlsx\", index=False, header=False)"
   ]
  },
  {
   "cell_type": "code",
   "execution_count": 7,
   "metadata": {
    "ExecuteTime": {
     "end_time": "2022-07-31T16:19:56.014501Z",
     "start_time": "2022-07-31T16:19:54.948149Z"
    }
   },
   "outputs": [
    {
     "name": "stderr",
     "output_type": "stream",
     "text": [
      "C:\\Users\\Julia\\AppData\\Local\\Temp\\ipykernel_13444\\311955129.py:1: UserWarning: Matplotlib is currently using module://matplotlib_inline.backend_inline, which is a non-GUI backend, so cannot show the figure.\n",
      "  camelot.plot(tables[0], kind='grid').show()\n"
     ]
    },
    {
     "data": {
      "image/png": "[encoded data removed]",
      "text/plain": [
       "<Figure size 432x288 with 1 Axes>"
      ]
     },
     "metadata": {
      "needs_background": "light"
     },
     "output_type": "display_data"
    }
   ],
   "source": [
    "camelot.plot(tables[0], kind='grid').show()"
   ]
  },
  {
   "cell_type": "code",
   "execution_count": 59,
   "metadata": {
    "ExecuteTime": {
     "end_time": "2022-07-31T16:14:24.429224Z",
     "start_time": "2022-07-31T16:14:24.184377Z"
    }
   },
   "outputs": [
    {
     "name": "stderr",
     "output_type": "stream",
     "text": [
      "C:\\Users\\Julia\\AppData\\Local\\Temp\\ipykernel_12980\\2005142002.py:1: UserWarning: Matplotlib is currently using module://matplotlib_inline.backend_inline, which is a non-GUI backend, so cannot show the figure.\n",
      "  camelot.plot(tables[0], kind='contour').show()\n"
     ]
    },
    {
     "data": {
      "image/png": "[encoded data removed]",
      "text/plain": [
       "<Figure size 432x288 with 1 Axes>"
      ]
     },
     "metadata": {
      "needs_background": "light"
     },
     "output_type": "display_data"
    }
   ],
   "source": [
    "camelot.plot(tables[0], kind='contour').show()"
   ]
  },
  {
   "cell_type": "code",
   "execution_count": 5,
   "metadata": {
    "ExecuteTime": {
     "end_time": "2022-07-31T08:58:43.690781Z",
     "start_time": "2022-07-31T08:58:43.651750Z"
    }
   },
   "outputs": [
    {
     "data": {
      "text/html": [
       "<div>\n",
       "<style scoped>\n",
       "    .dataframe tbody tr th:only-of-type {\n",
       "        vertical-align: middle;\n",
       "    }\n",
       "\n",
       "    .dataframe tbody tr th {\n",
       "        vertical-align: top;\n",
       "    }\n",
       "\n",
       "    .dataframe thead th {\n",
       "        text-align: right;\n",
       "    }\n",
       "</style>\n",
       "<table border=\"1\" class=\"dataframe\">\n",
       "  <thead>\n",
       "    <tr style=\"text-align: right;\">\n",
       "      <th></th>\n",
       "      <th>0</th>\n",
       "      <th>1</th>\n",
       "      <th>2</th>\n",
       "      <th>3</th>\n",
       "      <th>4</th>\n",
       "      <th>5</th>\n",
       "    </tr>\n",
       "  </thead>\n",
       "  <tbody>\n",
       "    <tr>\n",
       "      <th>0</th>\n",
       "      <td>N \\nEmpl\\noyee  \\nID \\n1 \\n1318 \\n12/31/2007 \\...</td>\n",
       "      <td>Recorddate \\nkey</td>\n",
       "      <td>Birthdate \\nOrig \\nkey \\nhiredate \\nkey</td>\n",
       "      <td>Terminatio\\nage \\nLength \\nCity \\nDepartme\\nJo...</td>\n",
       "      <td>BUSINESS \\nUNIT</td>\n",
       "      <td>Personal information \\nSTATUS \\nYEAR \\nGender ...</td>\n",
       "    </tr>\n",
       "    <tr>\n",
       "      <th>1</th>\n",
       "      <td></td>\n",
       "      <td></td>\n",
       "      <td></td>\n",
       "      <td></td>\n",
       "      <td></td>\n",
       "      <td>2006 \\n2007 \\n2008 \\n2009 \\n2010 \\n1. M \\nMale...</td>\n",
       "    </tr>\n",
       "    <tr>\n",
       "      <th>2</th>\n",
       "      <td></td>\n",
       "      <td>12/31/2013 0:00</td>\n",
       "      <td></td>\n",
       "      <td>1/1/1900 \\n59 \\n24 \\nVancou\\nExecutive \\nCEO \\...</td>\n",
       "      <td></td>\n",
       "      <td>2012 \\nNot \\nApplicab\\n2013 \\nle \\n2014 \\n2015</td>\n",
       "    </tr>\n",
       "    <tr>\n",
       "      <th>3</th>\n",
       "      <td>11 \\n1319 \\n12/31/2007 \\n1/3/1957 \\n8/28/1989 ...</td>\n",
       "      <td></td>\n",
       "      <td></td>\n",
       "      <td></td>\n",
       "      <td></td>\n",
       "      <td>2006 \\n2007 \\n2. F \\nFemale \\n2008 \\n2009</td>\n",
       "    </tr>\n",
       "  </tbody>\n",
       "</table>\n",
       "</div>"
      ],
      "text/plain": [
       "                                                   0                 1  \\\n",
       "0  N \\nEmpl\\noyee  \\nID \\n1 \\n1318 \\n12/31/2007 \\...  Recorddate \\nkey   \n",
       "1                                                                        \n",
       "2                                                      12/31/2013 0:00   \n",
       "3  11 \\n1319 \\n12/31/2007 \\n1/3/1957 \\n8/28/1989 ...                     \n",
       "\n",
       "                                         2  \\\n",
       "0  Birthdate \\nOrig \\nkey \\nhiredate \\nkey   \n",
       "1                                            \n",
       "2                                            \n",
       "3                                            \n",
       "\n",
       "                                                   3                4  \\\n",
       "0  Terminatio\\nage \\nLength \\nCity \\nDepartme\\nJo...  BUSINESS \\nUNIT   \n",
       "1                                                                       \n",
       "2  1/1/1900 \\n59 \\n24 \\nVancou\\nExecutive \\nCEO \\...                    \n",
       "3                                                                       \n",
       "\n",
       "                                                   5  \n",
       "0  Personal information \\nSTATUS \\nYEAR \\nGender ...  \n",
       "1  2006 \\n2007 \\n2008 \\n2009 \\n2010 \\n1. M \\nMale...  \n",
       "2     2012 \\nNot \\nApplicab\\n2013 \\nle \\n2014 \\n2015  \n",
       "3          2006 \\n2007 \\n2. F \\nFemale \\n2008 \\n2009  "
      ]
     },
     "execution_count": 5,
     "metadata": {},
     "output_type": "execute_result"
    }
   ],
   "source": [
    "tables[0].df[:5]"
   ]
  },
  {
   "cell_type": "code",
   "execution_count": 63,
   "metadata": {
    "ExecuteTime": {
     "end_time": "2022-07-31T16:15:59.871321Z",
     "start_time": "2022-07-31T16:15:59.855696Z"
    }
   },
   "outputs": [
    {
     "data": {
      "text/plain": [
       "{'accuracy': 99.8, 'whitespace': 31.99, 'order': 1, 'page': 1}"
      ]
     },
     "execution_count": 63,
     "metadata": {},
     "output_type": "execute_result"
    }
   ],
   "source": [
    "tables[0].parsing_report"
   ]
  },
  {
   "cell_type": "code",
   "execution_count": 8,
   "metadata": {
    "ExecuteTime": {
     "end_time": "2022-07-31T08:59:03.992411Z",
     "start_time": "2022-07-31T08:59:03.976406Z"
    }
   },
   "outputs": [],
   "source": [
    "#tables[0].to_excel(\"table_result3.xlsx\", index=False)"
   ]
  },
  {
   "cell_type": "code",
   "execution_count": 21,
   "metadata": {
    "ExecuteTime": {
     "end_time": "2022-07-31T13:54:41.093153Z",
     "start_time": "2022-07-31T13:54:40.110123Z"
    },
    "scrolled": true
   },
   "outputs": [
    {
     "name": "stdout",
     "output_type": "stream",
     "text": [
      "Bbox(x0=0.1868137254901961, y0=0.125, x1=0.8381862745098039, y1=0.88)\n",
      "(0.1868137254901961, 0.125, 0.6513725490196078, 0.755)\n",
      "[Text(0, 0, ''), Text(0, 0, ''), Text(0, 0, ''), Text(0, 0, ''), Text(0, 0, ''), Text(0, 0, ''), Text(0, 0, ''), Text(0, 0, '')]\n"
     ]
    },
    {
     "data": {
      "image/png": "[encoded data removed]",
      "text/plain": [
       "<Figure size 432x288 with 1 Axes>"
      ]
     },
     "metadata": {
      "needs_background": "light"
     },
     "output_type": "display_data"
    }
   ],
   "source": [
    "f = camelot.plot(tables[0], kind='contour')\n",
    "f.set_frameon(False)\n",
    "#nx = int(f.get_figwidth(), * f.dpi)\n",
    "#ny = int(f.get_figheight(), * f.dpi)\n",
    "#print(nx)\n",
    "#print(ny)\n",
    "plt.scatter(34.08, 498.96, c='b')\n",
    "plt.scatter(89.03999999999999, 546.12, c='r')\n",
    "#plt.scatter(0.1868137254901961+0.6513725490196078, 0.125+0.755, c='r')\n",
    "print(f.axes[0].get_position())\n",
    "print(f.axes[0].get_position().bounds)\n",
    "print(f.axes[0].get_yticklabels())"
   ]
  },
  {
   "cell_type": "code",
   "execution_count": 15,
   "metadata": {
    "ExecuteTime": {
     "end_time": "2022-07-31T13:50:11.605247Z",
     "start_time": "2022-07-31T13:50:11.079012Z"
    }
   },
   "outputs": [],
   "source": [
    "layout, dim = camelot.utils.get_page_layout(file)\n",
    "layout, dim "
   ]
  },
  {
   "cell_type": "code",
   "execution_count": 64,
   "metadata": {
    "ExecuteTime": {
     "end_time": "2022-07-31T16:16:07.684914Z",
     "start_time": "2022-07-31T16:16:07.186375Z"
    },
    "scrolled": false
   },
   "outputs": [
    {
     "name": "stderr",
     "output_type": "stream",
     "text": [
      "C:\\Users\\Julia\\AppData\\Local\\Temp\\ipykernel_12980\\3259206825.py:1: UserWarning: Matplotlib is currently using module://matplotlib_inline.backend_inline, which is a non-GUI backend, so cannot show the figure.\n",
      "  camelot.plot(tables[0], kind='text').show()\n"
     ]
    },
    {
     "data": {
      "image/png": "[encoded data removed]",
      "text/plain": [
       "<Figure size 432x288 with 1 Axes>"
      ]
     },
     "metadata": {
      "needs_background": "light"
     },
     "output_type": "display_data"
    }
   ],
   "source": [
    "camelot.plot(tables[0], kind='text').show()"
   ]
  },
  {
   "cell_type": "code",
   "execution_count": 19,
   "metadata": {
    "ExecuteTime": {
     "end_time": "2022-07-31T13:53:31.305203Z",
     "start_time": "2022-07-31T13:53:31.279208Z"
    }
   },
   "outputs": [
    {
     "name": "stdout",
     "output_type": "stream",
     "text": [
      "34.08 498.96 89.03999999999999 546.12\n",
      "89.03999999999999 498.96 143.28 546.12\n",
      "143.28 498.96 238.32 546.12\n",
      "238.32 498.96 519.12 546.12\n",
      "519.12 498.96 573.6 546.12\n",
      "573.6 498.96 752.64 546.12\n",
      "34.08 383.52 89.03999999999999 498.96\n",
      "89.03999999999999 383.52 143.28 498.96\n",
      "143.28 383.52 238.32 498.96\n",
      "238.32 383.52 519.12 498.96\n",
      "519.12 383.52 573.6 498.96\n",
      "573.6 383.52 752.64 498.96\n",
      "34.08 309.84 89.03999999999999 383.52\n",
      "89.03999999999999 309.84 143.28 383.52\n",
      "143.28 309.84 238.32 383.52\n",
      "238.32 309.84 519.12 383.52\n",
      "519.12 309.84 573.6 383.52\n",
      "573.6 309.84 752.64 383.52\n",
      "34.08 232.07999999999998 89.03999999999999 309.84\n",
      "89.03999999999999 232.07999999999998 143.28 309.84\n",
      "143.28 232.07999999999998 238.32 309.84\n",
      "238.32 232.07999999999998 519.12 309.84\n",
      "519.12 232.07999999999998 573.6 309.84\n",
      "573.6 232.07999999999998 752.64 309.84\n"
     ]
    }
   ],
   "source": [
    "for row in tables[0].cells:\n",
    "    for cell in row:\n",
    "        print(cell.x1, cell.y1, cell.x2, cell.y2)"
   ]
  },
  {
   "cell_type": "code",
   "execution_count": 41,
   "metadata": {},
   "outputs": [
    {
     "data": {
      "image/png": "[encoded data removed]",
      "text/plain": [
       "<Figure size 432x288 with 1 Axes>"
      ]
     },
     "metadata": {
      "needs_background": "light"
     },
     "output_type": "display_data"
    }
   ],
   "source": [
    "fig = camelot.plot(tables[0], kind='joint') #.show()"
   ]
  },
  {
   "cell_type": "code",
   "execution_count": 20,
   "metadata": {},
   "outputs": [
    {
     "data": {
      "text/plain": [
       "(4, 6)"
      ]
     },
     "execution_count": 20,
     "metadata": {},
     "output_type": "execute_result"
    }
   ],
   "source": [
    "tables[0].shape"
   ]
  },
  {
   "cell_type": "code",
   "execution_count": 45,
   "metadata": {
    "ExecuteTime": {
     "end_time": "2022-07-31T15:54:31.452201Z",
     "start_time": "2022-07-31T15:54:29.393167Z"
    },
    "scrolled": true
   },
   "outputs": [],
   "source": [
    "#table_regions=['170,370,560,270'] from background substr\n",
    "tables2 = camelot.read_pdf(file, flavor='stream', strip_text=' .\\n', split_text=True, )  # row_tol=1)"
   ]
  },
  {
   "cell_type": "code",
   "execution_count": 49,
   "metadata": {
    "ExecuteTime": {
     "end_time": "2022-07-31T15:55:39.030168Z",
     "start_time": "2022-07-31T15:55:35.854074Z"
    }
   },
   "outputs": [
    {
     "name": "stderr",
     "output_type": "stream",
     "text": [
      "C:\\Users\\Julia\\AppData\\Local\\Temp\\ipykernel_12980\\349893448.py:1: UserWarning: Matplotlib is currently using module://matplotlib_inline.backend_inline, which is a non-GUI backend, so cannot show the figure.\n",
      "  camelot.plot(tables2[0], kind='grid').show()\n"
     ]
    },
    {
     "data": {
      "image/png": "[encoded data removed]",
      "text/plain": [
       "<Figure size 432x288 with 1 Axes>"
      ]
     },
     "metadata": {
      "needs_background": "light"
     },
     "output_type": "display_data"
    }
   ],
   "source": [
    "camelot.plot(tables2[0], kind='grid').show()"
   ]
  },
  {
   "cell_type": "code",
   "execution_count": 19,
   "metadata": {},
   "outputs": [],
   "source": [
    "tables2[0].to_excel(\"table_result2.xlsx\", index=False)"
   ]
  }
 ],
 "metadata": {
  "kernelspec": {
   "display_name": "Python 3 (ipykernel)",
   "language": "python",
   "name": "python3"
  },
  "language_info": {
   "codemirror_mode": {
    "name": "ipython",
    "version": 3
   },
   "file_extension": ".py",
   "mimetype": "text/x-python",
   "name": "python",
   "nbconvert_exporter": "python",
   "pygments_lexer": "ipython3",
   "version": "3.8.10"
  },
  "vscode": {
   "interpreter": {
    "hash": "679d3255f8ecdd89b0217eb94c10ff560f4028aad99453065d4323cf83561760"
   }
  }
 },
 "nbformat": 4,
 "nbformat_minor": 2
}
